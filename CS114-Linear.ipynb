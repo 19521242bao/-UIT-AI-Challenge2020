{
  "nbformat": 4,
  "nbformat_minor": 0,
  "metadata": {
    "colab": {
      "name": "Untitled5.ipynb",
      "provenance": [],
      "authorship_tag": "ABX9TyNGKXfAZYLgD9iNh46CrU/y",
      "include_colab_link": true
    },
    "kernelspec": {
      "name": "python3",
      "display_name": "Python 3"
    }
  },
  "cells": [
    {
      "cell_type": "markdown",
      "metadata": {
        "id": "view-in-github",
        "colab_type": "text"
      },
      "source": [
        "<a href=\"https://colab.research.google.com/github/19521242bao/-UIT-AI-Challenge2020/blob/master/CS114-Linear.ipynb\" target=\"_parent\"><img src=\"https://colab.research.google.com/assets/colab-badge.svg\" alt=\"Open In Colab\"/></a>"
      ]
    },
    {
      "cell_type": "code",
      "metadata": {
        "id": "fBqpB1TwBICQ"
      },
      "source": [
        "import pandas as pd\n",
        "import numpy as np"
      ],
      "execution_count": 20,
      "outputs": []
    },
    {
      "cell_type": "code",
      "metadata": {
        "id": "Od7wGcOJRrGd",
        "outputId": "69cdd9e3-d399-4661-9e9b-0fb6dc8d5820",
        "colab": {
          "base_uri": "https://localhost:8080/",
          "height": 195
        }
      },
      "source": [
        "df=pd.read_csv(\"BubleSort.csv\")\n",
        "df.head(5)"
      ],
      "execution_count": null,
      "outputs": [
        {
          "output_type": "execute_result",
          "data": {
            "text/html": [
              "<div>\n",
              "<style scoped>\n",
              "    .dataframe tbody tr th:only-of-type {\n",
              "        vertical-align: middle;\n",
              "    }\n",
              "\n",
              "    .dataframe tbody tr th {\n",
              "        vertical-align: top;\n",
              "    }\n",
              "\n",
              "    .dataframe thead th {\n",
              "        text-align: right;\n",
              "    }\n",
              "</style>\n",
              "<table border=\"1\" class=\"dataframe\">\n",
              "  <thead>\n",
              "    <tr style=\"text-align: right;\">\n",
              "      <th></th>\n",
              "      <th>N</th>\n",
              "      <th>O(N)</th>\n",
              "      <th>N^2</th>\n",
              "      <th>N^3</th>\n",
              "      <th>N.1</th>\n",
              "    </tr>\n",
              "  </thead>\n",
              "  <tbody>\n",
              "    <tr>\n",
              "      <th>0</th>\n",
              "      <td>322.0</td>\n",
              "      <td>422352.0</td>\n",
              "      <td>103684.0</td>\n",
              "      <td>33386248.0</td>\n",
              "      <td>322.0</td>\n",
              "    </tr>\n",
              "    <tr>\n",
              "      <th>1</th>\n",
              "      <td>659.0</td>\n",
              "      <td>1749722.0</td>\n",
              "      <td>434281.0</td>\n",
              "      <td>286191179.0</td>\n",
              "      <td>659.0</td>\n",
              "    </tr>\n",
              "    <tr>\n",
              "      <th>2</th>\n",
              "      <td>941.0</td>\n",
              "      <td>3553988.0</td>\n",
              "      <td>885481.0</td>\n",
              "      <td>833237621.0</td>\n",
              "      <td>941.0</td>\n",
              "    </tr>\n",
              "    <tr>\n",
              "      <th>3</th>\n",
              "      <td>844.0</td>\n",
              "      <td>2859994.0</td>\n",
              "      <td>712336.0</td>\n",
              "      <td>601211584.0</td>\n",
              "      <td>844.0</td>\n",
              "    </tr>\n",
              "    <tr>\n",
              "      <th>4</th>\n",
              "      <td>160.0</td>\n",
              "      <td>104582.0</td>\n",
              "      <td>25600.0</td>\n",
              "      <td>4096000.0</td>\n",
              "      <td>160.0</td>\n",
              "    </tr>\n",
              "  </tbody>\n",
              "</table>\n",
              "</div>"
            ],
            "text/plain": [
              "       N       O(N)       N^2          N^3    N.1\n",
              "0  322.0   422352.0  103684.0   33386248.0  322.0\n",
              "1  659.0  1749722.0  434281.0  286191179.0  659.0\n",
              "2  941.0  3553988.0  885481.0  833237621.0  941.0\n",
              "3  844.0  2859994.0  712336.0  601211584.0  844.0\n",
              "4  160.0   104582.0   25600.0    4096000.0  160.0"
            ]
          },
          "metadata": {
            "tags": []
          },
          "execution_count": 5
        }
      ]
    },
    {
      "cell_type": "markdown",
      "metadata": {
        "id": "o-R4sFH_Spdv"
      },
      "source": [
        "đọc file csv\n"
      ]
    },
    {
      "cell_type": "code",
      "metadata": {
        "id": "TFhjlLSgYG1N"
      },
      "source": [
        ""
      ],
      "execution_count": null,
      "outputs": []
    },
    {
      "cell_type": "markdown",
      "metadata": {
        "id": "0s1J12rjYLJ6"
      },
      "source": [
        ""
      ]
    },
    {
      "cell_type": "code",
      "metadata": {
        "id": "vXoxQfD4YLwb"
      },
      "source": [
        ""
      ],
      "execution_count": null,
      "outputs": []
    },
    {
      "cell_type": "code",
      "metadata": {
        "id": "nyy5mfu8SrZ_"
      },
      "source": [
        "import matplotlib.pyplot as plt"
      ],
      "execution_count": null,
      "outputs": []
    },
    {
      "cell_type": "code",
      "metadata": {
        "id": "ZM4V-iA0TDUW",
        "outputId": "6e33beae-9ace-4681-c1ee-19bad0b9a246",
        "colab": {
          "base_uri": "https://localhost:8080/",
          "height": 218
        }
      },
      "source": [
        "X=df['N']\n",
        "Y=df['N^2']\n",
        "print(Y)"
      ],
      "execution_count": null,
      "outputs": [
        {
          "output_type": "stream",
          "text": [
            "0      1.036840e+05\n",
            "1      4.342810e+05\n",
            "2      8.854810e+05\n",
            "3      7.123360e+05\n",
            "4      2.560000e+04\n",
            "           ...     \n",
            "148    8.649000e+05\n",
            "149    6.084000e+05\n",
            "150    9.216000e+03\n",
            "151    3.356280e+05\n",
            "152    1.130000e+11\n",
            "Name: N^2, Length: 153, dtype: float64\n"
          ],
          "name": "stdout"
        }
      ]
    },
    {
      "cell_type": "code",
      "metadata": {
        "id": "gH7PlZ07U8uo",
        "outputId": "bf71e085-56dd-453b-d4fb-9ce99af2b76d",
        "colab": {
          "base_uri": "https://localhost:8080/",
          "height": 276
        }
      },
      "source": [
        "plt.plot(X, Y, 'ro')\n",
        "\n",
        "plt.show()"
      ],
      "execution_count": null,
      "outputs": [
        {
          "output_type": "display_data",
          "data": {
            "image/png": "[encoded data removed]",
            "text/plain": [
              "<Figure size 432x288 with 1 Axes>"
            ]
          },
          "metadata": {
            "tags": [],
            "needs_background": "light"
          }
        }
      ]
    },
    {
      "cell_type": "markdown",
      "metadata": {
        "id": "_i6aeJvHQm9i"
      },
      "source": [
        ""
      ]
    },
    {
      "cell_type": "code",
      "metadata": {
        "id": "7EGmfVdWYNd8",
        "outputId": "e0529e93-cf09-4e5d-fedc-225102a84966",
        "colab": {
          "base_uri": "https://localhost:8080/",
          "height": 1000
        }
      },
      "source": [
        "X=np.array(X)\n",
        "print(X)\n",
        "X.reshape((-1,1))"
      ],
      "execution_count": 24,
      "outputs": [
        {
          "output_type": "stream",
          "text": [
            "[322. 659. 941. 844. 160. 396.  93. 258. 727. 809. 144. 382. 350. 715.\n",
            " 345. 570. 647. 347.  65.  99. 707. 560. 832. 161. 361. 479. 198. 279.\n",
            " 508. 417. 434. 371. 434. 184. 912. 172. 862. 897. 935. 344. 535. 653.\n",
            " 779. 955. 569. 272. 924. 621. 940. 580. 439. 979. 787. 358. 814. 919.\n",
            " 362. 610.  59. 246. 135. 234. 922. 172.  65. 195.  70. 669. 563.  98.\n",
            " 617. 182. 241. 813. 997.   0. 309. 193.  51. 441. 999.  49. 980. 736.\n",
            " 972. 667. 504. 873. 775. 304. 789. 936. 466. 922. 488.  55. 635. 483.\n",
            " 225. 848. 591. 359. 836. 510. 653. 843. 757. 801. 788. 140. 981. 322.\n",
            " 631. 973. 278. 552. 312. 142. 318. 141. 831. 557. 248. 657.  95. 539.\n",
            " 858. 210. 827. 434. 225. 774. 120. 110.   7. 583. 225. 136. 309. 218.\n",
            " 352. 160. 136. 837. 189. 997.  39. 540. 930. 780.  96. 496.  nan]\n"
          ],
          "name": "stdout"
        },
        {
          "output_type": "execute_result",
          "data": {
            "text/plain": [
              "array([[322.],\n",
              "       [659.],\n",
              "       [941.],\n",
              "       [844.],\n",
              "       [160.],\n",
              "       [396.],\n",
              "       [ 93.],\n",
              "       [258.],\n",
              "       [727.],\n",
              "       [809.],\n",
              "       [144.],\n",
              "       [382.],\n",
              "       [350.],\n",
              "       [715.],\n",
              "       [345.],\n",
              "       [570.],\n",
              "       [647.],\n",
              "       [347.],\n",
              "       [ 65.],\n",
              "       [ 99.],\n",
              "       [707.],\n",
              "       [560.],\n",
              "       [832.],\n",
              "       [161.],\n",
              "       [361.],\n",
              "       [479.],\n",
              "       [198.],\n",
              "       [279.],\n",
              "       [508.],\n",
              "       [417.],\n",
              "       [434.],\n",
              "       [371.],\n",
              "       [434.],\n",
              "       [184.],\n",
              "       [912.],\n",
              "       [172.],\n",
              "       [862.],\n",
              "       [897.],\n",
              "       [935.],\n",
              "       [344.],\n",
              "       [535.],\n",
              "       [653.],\n",
              "       [779.],\n",
              "       [955.],\n",
              "       [569.],\n",
              "       [272.],\n",
              "       [924.],\n",
              "       [621.],\n",
              "       [940.],\n",
              "       [580.],\n",
              "       [439.],\n",
              "       [979.],\n",
              "       [787.],\n",
              "       [358.],\n",
              "       [814.],\n",
              "       [919.],\n",
              "       [362.],\n",
              "       [610.],\n",
              "       [ 59.],\n",
              "       [246.],\n",
              "       [135.],\n",
              "       [234.],\n",
              "       [922.],\n",
              "       [172.],\n",
              "       [ 65.],\n",
              "       [195.],\n",
              "       [ 70.],\n",
              "       [669.],\n",
              "       [563.],\n",
              "       [ 98.],\n",
              "       [617.],\n",
              "       [182.],\n",
              "       [241.],\n",
              "       [813.],\n",
              "       [997.],\n",
              "       [  0.],\n",
              "       [309.],\n",
              "       [193.],\n",
              "       [ 51.],\n",
              "       [441.],\n",
              "       [999.],\n",
              "       [ 49.],\n",
              "       [980.],\n",
              "       [736.],\n",
              "       [972.],\n",
              "       [667.],\n",
              "       [504.],\n",
              "       [873.],\n",
              "       [775.],\n",
              "       [304.],\n",
              "       [789.],\n",
              "       [936.],\n",
              "       [466.],\n",
              "       [922.],\n",
              "       [488.],\n",
              "       [ 55.],\n",
              "       [635.],\n",
              "       [483.],\n",
              "       [225.],\n",
              "       [848.],\n",
              "       [591.],\n",
              "       [359.],\n",
              "       [836.],\n",
              "       [510.],\n",
              "       [653.],\n",
              "       [843.],\n",
              "       [757.],\n",
              "       [801.],\n",
              "       [788.],\n",
              "       [140.],\n",
              "       [981.],\n",
              "       [322.],\n",
              "       [631.],\n",
              "       [973.],\n",
              "       [278.],\n",
              "       [552.],\n",
              "       [312.],\n",
              "       [142.],\n",
              "       [318.],\n",
              "       [141.],\n",
              "       [831.],\n",
              "       [557.],\n",
              "       [248.],\n",
              "       [657.],\n",
              "       [ 95.],\n",
              "       [539.],\n",
              "       [858.],\n",
              "       [210.],\n",
              "       [827.],\n",
              "       [434.],\n",
              "       [225.],\n",
              "       [774.],\n",
              "       [120.],\n",
              "       [110.],\n",
              "       [  7.],\n",
              "       [583.],\n",
              "       [225.],\n",
              "       [136.],\n",
              "       [309.],\n",
              "       [218.],\n",
              "       [352.],\n",
              "       [160.],\n",
              "       [136.],\n",
              "       [837.],\n",
              "       [189.],\n",
              "       [997.],\n",
              "       [ 39.],\n",
              "       [540.],\n",
              "       [930.],\n",
              "       [780.],\n",
              "       [ 96.],\n",
              "       [496.],\n",
              "       [ nan]])"
            ]
          },
          "metadata": {
            "tags": []
          },
          "execution_count": 24
        }
      ]
    },
    {
      "cell_type": "code",
      "metadata": {
        "id": "lXgAiZTJbwUt",
        "outputId": "161efcb6-0725-495c-f114-9705aa7a20c6",
        "colab": {
          "base_uri": "https://localhost:8080/",
          "height": 212
        }
      },
      "source": [
        "_X = np.concatenate((np.ones((X.shape[0],1)), X), axis=1)"
      ],
      "execution_count": 25,
      "outputs": [
        {
          "output_type": "error",
          "ename": "ValueError",
          "evalue": "ignored",
          "traceback": [
            "\u001b[0;31m---------------------------------------------------------------------------\u001b[0m",
            "\u001b[0;31mValueError\u001b[0m                                Traceback (most recent call last)",
            "\u001b[0;32m<ipython-input-25-f55d03dd21c3>\u001b[0m in \u001b[0;36m<module>\u001b[0;34m()\u001b[0m\n\u001b[0;32m----> 1\u001b[0;31m \u001b[0m_X\u001b[0m \u001b[0;34m=\u001b[0m \u001b[0mnp\u001b[0m\u001b[0;34m.\u001b[0m\u001b[0mconcatenate\u001b[0m\u001b[0;34m(\u001b[0m\u001b[0;34m(\u001b[0m\u001b[0mnp\u001b[0m\u001b[0;34m.\u001b[0m\u001b[0mones\u001b[0m\u001b[0;34m(\u001b[0m\u001b[0;34m(\u001b[0m\u001b[0mX\u001b[0m\u001b[0;34m.\u001b[0m\u001b[0mshape\u001b[0m\u001b[0;34m[\u001b[0m\u001b[0;36m0\u001b[0m\u001b[0;34m]\u001b[0m\u001b[0;34m,\u001b[0m\u001b[0;36m1\u001b[0m\u001b[0;34m)\u001b[0m\u001b[0;34m)\u001b[0m\u001b[0;34m,\u001b[0m \u001b[0mX\u001b[0m\u001b[0;34m)\u001b[0m\u001b[0;34m,\u001b[0m \u001b[0maxis\u001b[0m\u001b[0;34m=\u001b[0m\u001b[0;36m1\u001b[0m\u001b[0;34m)\u001b[0m\u001b[0;34m\u001b[0m\u001b[0;34m\u001b[0m\u001b[0m\n\u001b[0m",
            "\u001b[0;32m<__array_function__ internals>\u001b[0m in \u001b[0;36mconcatenate\u001b[0;34m(*args, **kwargs)\u001b[0m\n",
            "\u001b[0;31mValueError\u001b[0m: all the input arrays must have same number of dimensions, but the array at index 0 has 2 dimension(s) and the array at index 1 has 1 dimension(s)"
          ]
        }
      ]
    }
  ]
}