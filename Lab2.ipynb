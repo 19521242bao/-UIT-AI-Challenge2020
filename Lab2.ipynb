{
  "nbformat": 4,
  "nbformat_minor": 0,
  "metadata": {
    "colab": {
      "name": "Untitled6.ipynb",
      "provenance": [],
      "authorship_tag": "ABX9TyMDZSE73mYk7eULgNtYd96S",
      "include_colab_link": true
    },
    "kernelspec": {
      "name": "python3",
      "display_name": "Python 3"
    }
  },
  "cells": [
    {
      "cell_type": "markdown",
      "metadata": {
        "id": "view-in-github",
        "colab_type": "text"
      },
      "source": [
        "<a href=\"https://colab.research.google.com/github/19521242bao/-UIT-AI-Challenge2020/blob/master/Lab2.ipynb\" target=\"_parent\"><img src=\"https://colab.research.google.com/assets/colab-badge.svg\" alt=\"Open In Colab\"/></a>"
      ]
    },
    {
      "cell_type": "code",
      "metadata": {
        "id": "iZFOHlNfHGJb"
      },
      "source": [
        "import pandas as pd\n",
        "import numpy as np\n",
        "from sklearn.linear_model import LinearRegression"
      ],
      "execution_count": null,
      "outputs": []
    },
    {
      "cell_type": "code",
      "metadata": {
        "id": "EffGLwDAHkIa",
        "outputId": "51fc6cf5-cbbe-4f8b-f96f-10cd06da2c10",
        "colab": {
          "base_uri": "https://localhost:8080/",
          "height": 1000
        }
      },
      "source": [
        "data=pd.read_csv(\"data01.csv\")\n",
        "data.columns = ['times', 'operations']\n",
        "data"
      ],
      "execution_count": null,
      "outputs": [
        {
          "output_type": "execute_result",
          "data": {
            "text/html": [
              "<div>\n",
              "<style scoped>\n",
              "    .dataframe tbody tr th:only-of-type {\n",
              "        vertical-align: middle;\n",
              "    }\n",
              "\n",
              "    .dataframe tbody tr th {\n",
              "        vertical-align: top;\n",
              "    }\n",
              "\n",
              "    .dataframe thead th {\n",
              "        text-align: right;\n",
              "    }\n",
              "</style>\n",
              "<table border=\"1\" class=\"dataframe\">\n",
              "  <thead>\n",
              "    <tr style=\"text-align: right;\">\n",
              "      <th></th>\n",
              "      <th>times</th>\n",
              "      <th>operations</th>\n",
              "    </tr>\n",
              "  </thead>\n",
              "  <tbody>\n",
              "    <tr>\n",
              "      <th>0</th>\n",
              "      <td>227</td>\n",
              "      <td>208391</td>\n",
              "    </tr>\n",
              "    <tr>\n",
              "      <th>1</th>\n",
              "      <td>249</td>\n",
              "      <td>250039</td>\n",
              "    </tr>\n",
              "    <tr>\n",
              "      <th>2</th>\n",
              "      <td>273</td>\n",
              "      <td>294067</td>\n",
              "    </tr>\n",
              "    <tr>\n",
              "      <th>3</th>\n",
              "      <td>300</td>\n",
              "      <td>365196</td>\n",
              "    </tr>\n",
              "    <tr>\n",
              "      <th>4</th>\n",
              "      <td>330</td>\n",
              "      <td>427380</td>\n",
              "    </tr>\n",
              "    <tr>\n",
              "      <th>5</th>\n",
              "      <td>363</td>\n",
              "      <td>528231</td>\n",
              "    </tr>\n",
              "    <tr>\n",
              "      <th>6</th>\n",
              "      <td>399</td>\n",
              "      <td>636639</td>\n",
              "    </tr>\n",
              "    <tr>\n",
              "      <th>7</th>\n",
              "      <td>438</td>\n",
              "      <td>784816</td>\n",
              "    </tr>\n",
              "    <tr>\n",
              "      <th>8</th>\n",
              "      <td>481</td>\n",
              "      <td>929715</td>\n",
              "    </tr>\n",
              "    <tr>\n",
              "      <th>9</th>\n",
              "      <td>529</td>\n",
              "      <td>1111631</td>\n",
              "    </tr>\n",
              "    <tr>\n",
              "      <th>10</th>\n",
              "      <td>581</td>\n",
              "      <td>1362351</td>\n",
              "    </tr>\n",
              "    <tr>\n",
              "      <th>11</th>\n",
              "      <td>639</td>\n",
              "      <td>1646771</td>\n",
              "    </tr>\n",
              "    <tr>\n",
              "      <th>12</th>\n",
              "      <td>702</td>\n",
              "      <td>1959368</td>\n",
              "    </tr>\n",
              "    <tr>\n",
              "      <th>13</th>\n",
              "      <td>772</td>\n",
              "      <td>2390172</td>\n",
              "    </tr>\n",
              "    <tr>\n",
              "      <th>14</th>\n",
              "      <td>849</td>\n",
              "      <td>2868299</td>\n",
              "    </tr>\n",
              "    <tr>\n",
              "      <th>15</th>\n",
              "      <td>933</td>\n",
              "      <td>3487415</td>\n",
              "    </tr>\n",
              "    <tr>\n",
              "      <th>16</th>\n",
              "      <td>1026</td>\n",
              "      <td>4218084</td>\n",
              "    </tr>\n",
              "    <tr>\n",
              "      <th>17</th>\n",
              "      <td>1128</td>\n",
              "      <td>5098840</td>\n",
              "    </tr>\n",
              "    <tr>\n",
              "      <th>18</th>\n",
              "      <td>1240</td>\n",
              "      <td>6152044</td>\n",
              "    </tr>\n",
              "    <tr>\n",
              "      <th>19</th>\n",
              "      <td>1364</td>\n",
              "      <td>7440416</td>\n",
              "    </tr>\n",
              "    <tr>\n",
              "      <th>20</th>\n",
              "      <td>1500</td>\n",
              "      <td>8983952</td>\n",
              "    </tr>\n",
              "    <tr>\n",
              "      <th>21</th>\n",
              "      <td>1650</td>\n",
              "      <td>10916588</td>\n",
              "    </tr>\n",
              "    <tr>\n",
              "      <th>22</th>\n",
              "      <td>1815</td>\n",
              "      <td>13245511</td>\n",
              "    </tr>\n",
              "    <tr>\n",
              "      <th>23</th>\n",
              "      <td>1996</td>\n",
              "      <td>15828684</td>\n",
              "    </tr>\n",
              "    <tr>\n",
              "      <th>24</th>\n",
              "      <td>2195</td>\n",
              "      <td>19196247</td>\n",
              "    </tr>\n",
              "    <tr>\n",
              "      <th>25</th>\n",
              "      <td>2414</td>\n",
              "      <td>23294508</td>\n",
              "    </tr>\n",
              "    <tr>\n",
              "      <th>26</th>\n",
              "      <td>2655</td>\n",
              "      <td>28270307</td>\n",
              "    </tr>\n",
              "    <tr>\n",
              "      <th>27</th>\n",
              "      <td>2920</td>\n",
              "      <td>34160400</td>\n",
              "    </tr>\n",
              "    <tr>\n",
              "      <th>28</th>\n",
              "      <td>3212</td>\n",
              "      <td>41290980</td>\n",
              "    </tr>\n",
              "    <tr>\n",
              "      <th>29</th>\n",
              "      <td>3533</td>\n",
              "      <td>50017943</td>\n",
              "    </tr>\n",
              "    <tr>\n",
              "      <th>30</th>\n",
              "      <td>3886</td>\n",
              "      <td>60385568</td>\n",
              "    </tr>\n",
              "    <tr>\n",
              "      <th>31</th>\n",
              "      <td>4274</td>\n",
              "      <td>73285360</td>\n",
              "    </tr>\n",
              "    <tr>\n",
              "      <th>32</th>\n",
              "      <td>4701</td>\n",
              "      <td>88464271</td>\n",
              "    </tr>\n",
              "    <tr>\n",
              "      <th>33</th>\n",
              "      <td>5171</td>\n",
              "      <td>107000471</td>\n",
              "    </tr>\n",
              "    <tr>\n",
              "      <th>34</th>\n",
              "      <td>5688</td>\n",
              "      <td>129466632</td>\n",
              "    </tr>\n",
              "    <tr>\n",
              "      <th>35</th>\n",
              "      <td>6256</td>\n",
              "      <td>156296624</td>\n",
              "    </tr>\n",
              "    <tr>\n",
              "      <th>36</th>\n",
              "      <td>6881</td>\n",
              "      <td>189231767</td>\n",
              "    </tr>\n",
              "    <tr>\n",
              "      <th>37</th>\n",
              "      <td>7569</td>\n",
              "      <td>228609599</td>\n",
              "    </tr>\n",
              "    <tr>\n",
              "      <th>38</th>\n",
              "      <td>8325</td>\n",
              "      <td>276774971</td>\n",
              "    </tr>\n",
              "    <tr>\n",
              "      <th>39</th>\n",
              "      <td>9157</td>\n",
              "      <td>335545843</td>\n",
              "    </tr>\n",
              "    <tr>\n",
              "      <th>40</th>\n",
              "      <td>10072</td>\n",
              "      <td>405167916</td>\n",
              "    </tr>\n",
              "    <tr>\n",
              "      <th>41</th>\n",
              "      <td>11079</td>\n",
              "      <td>491999043</td>\n",
              "    </tr>\n",
              "  </tbody>\n",
              "</table>\n",
              "</div>"
            ],
            "text/plain": [
              "    times  operations\n",
              "0     227      208391\n",
              "1     249      250039\n",
              "2     273      294067\n",
              "3     300      365196\n",
              "4     330      427380\n",
              "5     363      528231\n",
              "6     399      636639\n",
              "7     438      784816\n",
              "8     481      929715\n",
              "9     529     1111631\n",
              "10    581     1362351\n",
              "11    639     1646771\n",
              "12    702     1959368\n",
              "13    772     2390172\n",
              "14    849     2868299\n",
              "15    933     3487415\n",
              "16   1026     4218084\n",
              "17   1128     5098840\n",
              "18   1240     6152044\n",
              "19   1364     7440416\n",
              "20   1500     8983952\n",
              "21   1650    10916588\n",
              "22   1815    13245511\n",
              "23   1996    15828684\n",
              "24   2195    19196247\n",
              "25   2414    23294508\n",
              "26   2655    28270307\n",
              "27   2920    34160400\n",
              "28   3212    41290980\n",
              "29   3533    50017943\n",
              "30   3886    60385568\n",
              "31   4274    73285360\n",
              "32   4701    88464271\n",
              "33   5171   107000471\n",
              "34   5688   129466632\n",
              "35   6256   156296624\n",
              "36   6881   189231767\n",
              "37   7569   228609599\n",
              "38   8325   276774971\n",
              "39   9157   335545843\n",
              "40  10072   405167916\n",
              "41  11079   491999043"
            ]
          },
          "metadata": {
            "tags": []
          },
          "execution_count": 2
        }
      ]
    },
    {
      "cell_type": "code",
      "metadata": {
        "id": "fSjfzSJC7wGt"
      },
      "source": [
        ""
      ],
      "execution_count": null,
      "outputs": []
    },
    {
      "cell_type": "markdown",
      "metadata": {
        "id": "YhVyq6ui7UFh"
      },
      "source": [
        "đọc file csv và create lại cột\n"
      ]
    },
    {
      "cell_type": "code",
      "metadata": {
        "id": "arc9tX2S7X8X",
        "outputId": "1de9952c-ab42-458a-946c-ec01994a9c56",
        "colab": {
          "base_uri": "https://localhost:8080/",
          "height": 722
        }
      },
      "source": [
        "X_=np.array(data['times']).reshape(-1,1)\n",
        "X_"
      ],
      "execution_count": null,
      "outputs": [
        {
          "output_type": "execute_result",
          "data": {
            "text/plain": [
              "array([[  227],\n",
              "       [  249],\n",
              "       [  273],\n",
              "       [  300],\n",
              "       [  330],\n",
              "       [  363],\n",
              "       [  399],\n",
              "       [  438],\n",
              "       [  481],\n",
              "       [  529],\n",
              "       [  581],\n",
              "       [  639],\n",
              "       [  702],\n",
              "       [  772],\n",
              "       [  849],\n",
              "       [  933],\n",
              "       [ 1026],\n",
              "       [ 1128],\n",
              "       [ 1240],\n",
              "       [ 1364],\n",
              "       [ 1500],\n",
              "       [ 1650],\n",
              "       [ 1815],\n",
              "       [ 1996],\n",
              "       [ 2195],\n",
              "       [ 2414],\n",
              "       [ 2655],\n",
              "       [ 2920],\n",
              "       [ 3212],\n",
              "       [ 3533],\n",
              "       [ 3886],\n",
              "       [ 4274],\n",
              "       [ 4701],\n",
              "       [ 5171],\n",
              "       [ 5688],\n",
              "       [ 6256],\n",
              "       [ 6881],\n",
              "       [ 7569],\n",
              "       [ 8325],\n",
              "       [ 9157],\n",
              "       [10072],\n",
              "       [11079]])"
            ]
          },
          "metadata": {
            "tags": []
          },
          "execution_count": 3
        }
      ]
    },
    {
      "cell_type": "code",
      "metadata": {
        "id": "2KDjHFtw7xT8",
        "outputId": "a702e983-d288-401e-aa41-7c692822b19c",
        "colab": {
          "base_uri": "https://localhost:8080/",
          "height": 722
        }
      },
      "source": [
        "Y_ = np.array(data['operations']).reshape(-1, 1)\n",
        "Y_"
      ],
      "execution_count": null,
      "outputs": [
        {
          "output_type": "execute_result",
          "data": {
            "text/plain": [
              "array([[   208391],\n",
              "       [   250039],\n",
              "       [   294067],\n",
              "       [   365196],\n",
              "       [   427380],\n",
              "       [   528231],\n",
              "       [   636639],\n",
              "       [   784816],\n",
              "       [   929715],\n",
              "       [  1111631],\n",
              "       [  1362351],\n",
              "       [  1646771],\n",
              "       [  1959368],\n",
              "       [  2390172],\n",
              "       [  2868299],\n",
              "       [  3487415],\n",
              "       [  4218084],\n",
              "       [  5098840],\n",
              "       [  6152044],\n",
              "       [  7440416],\n",
              "       [  8983952],\n",
              "       [ 10916588],\n",
              "       [ 13245511],\n",
              "       [ 15828684],\n",
              "       [ 19196247],\n",
              "       [ 23294508],\n",
              "       [ 28270307],\n",
              "       [ 34160400],\n",
              "       [ 41290980],\n",
              "       [ 50017943],\n",
              "       [ 60385568],\n",
              "       [ 73285360],\n",
              "       [ 88464271],\n",
              "       [107000471],\n",
              "       [129466632],\n",
              "       [156296624],\n",
              "       [189231767],\n",
              "       [228609599],\n",
              "       [276774971],\n",
              "       [335545843],\n",
              "       [405167916],\n",
              "       [491999043]])"
            ]
          },
          "metadata": {
            "tags": []
          },
          "execution_count": 4
        }
      ]
    },
    {
      "cell_type": "markdown",
      "metadata": {
        "id": "S9k0OmQ379ET"
      },
      "source": [
        "chỉnh sửa array thành dạng chuẩn để dùng LinearRegression\n"
      ]
    },
    {
      "cell_type": "code",
      "metadata": {
        "id": "ND691-tm8EBk",
        "outputId": "6b4f0332-db92-44f0-9077-6f5dab78725b",
        "colab": {
          "base_uri": "https://localhost:8080/",
          "height": 722
        }
      },
      "source": [
        "def pow2_n(arr):\n",
        "  return arr**2\n",
        "pow2_n(X_)\n"
      ],
      "execution_count": null,
      "outputs": [
        {
          "output_type": "execute_result",
          "data": {
            "text/plain": [
              "array([[    51529],\n",
              "       [    62001],\n",
              "       [    74529],\n",
              "       [    90000],\n",
              "       [   108900],\n",
              "       [   131769],\n",
              "       [   159201],\n",
              "       [   191844],\n",
              "       [   231361],\n",
              "       [   279841],\n",
              "       [   337561],\n",
              "       [   408321],\n",
              "       [   492804],\n",
              "       [   595984],\n",
              "       [   720801],\n",
              "       [   870489],\n",
              "       [  1052676],\n",
              "       [  1272384],\n",
              "       [  1537600],\n",
              "       [  1860496],\n",
              "       [  2250000],\n",
              "       [  2722500],\n",
              "       [  3294225],\n",
              "       [  3984016],\n",
              "       [  4818025],\n",
              "       [  5827396],\n",
              "       [  7049025],\n",
              "       [  8526400],\n",
              "       [ 10316944],\n",
              "       [ 12482089],\n",
              "       [ 15100996],\n",
              "       [ 18267076],\n",
              "       [ 22099401],\n",
              "       [ 26739241],\n",
              "       [ 32353344],\n",
              "       [ 39137536],\n",
              "       [ 47348161],\n",
              "       [ 57289761],\n",
              "       [ 69305625],\n",
              "       [ 83850649],\n",
              "       [101445184],\n",
              "       [122744241]])"
            ]
          },
          "metadata": {
            "tags": []
          },
          "execution_count": 5
        }
      ]
    },
    {
      "cell_type": "code",
      "metadata": {
        "id": "pd7k-PFW9Iyo"
      },
      "source": [
        "def log2_n(arr):\n",
        "  return np.log2(arr)"
      ],
      "execution_count": null,
      "outputs": []
    },
    {
      "cell_type": "markdown",
      "metadata": {
        "id": "HD4WkBz88rqN"
      },
      "source": [
        "hàm đổi bình phương"
      ]
    },
    {
      "cell_type": "code",
      "metadata": {
        "id": "t-29zJfD8uYL",
        "outputId": "9cd94933-06b8-4712-dddb-7e882bc04d49",
        "colab": {
          "base_uri": "https://localhost:8080/",
          "height": 722
        }
      },
      "source": [
        "def N_Log_2_N(arr):\n",
        "  return arr*log2_n(arr)\n",
        "N_Log_2_N(X_)"
      ],
      "execution_count": null,
      "outputs": [
        {
          "output_type": "execute_result",
          "data": {
            "text/plain": [
              "array([[  1776.62650662],\n",
              "       [  1982.04048108],\n",
              "       [  2209.32269947],\n",
              "       [  2468.64560715],\n",
              "       [  2760.8863307 ],\n",
              "       [  3086.88874289],\n",
              "       [  3447.45772955],\n",
              "       [  3843.35673211],\n",
              "       [  4285.65857329],\n",
              "       [  4785.92854951],\n",
              "       [  5334.97111933],\n",
              "       [  5955.27048529],\n",
              "       [  6637.63970865],\n",
              "       [  7405.37683277],\n",
              "       [  8260.44801128],\n",
              "       [  9204.7291417 ],\n",
              "       [ 10262.88820601],\n",
              "       [ 11437.41392551],\n",
              "       [ 12742.39426254],\n",
              "       [ 14204.18849519],\n",
              "       [ 15826.12017807],\n",
              "       [ 17635.61301007],\n",
              "       [ 19648.74320668],\n",
              "       [ 21881.94042665],\n",
              "       [ 24364.51146761],\n",
              "       [ 27126.62484526],\n",
              "       [ 30199.28726681],\n",
              "       [ 33614.317749  ],\n",
              "       [ 37417.41084219],\n",
              "       [ 41642.33349374],\n",
              "       [ 46336.93674118],\n",
              "       [ 51550.30047743],\n",
              "       [ 57346.33298838],\n",
              "       [ 63790.63286522],\n",
              "       [ 70950.43830384],\n",
              "       [ 78894.57113195],\n",
              "       [ 87721.75779791],\n",
              "       [ 97533.27864016],\n",
              "       [108418.42768574],\n",
              "       [120512.15727619],\n",
              "       [133938.08618207],\n",
              "       [148852.34819098]])"
            ]
          },
          "metadata": {
            "tags": []
          },
          "execution_count": 16
        }
      ]
    },
    {
      "cell_type": "code",
      "metadata": {
        "id": "vvTfwysC9sdz"
      },
      "source": [
        "model = LinearRegression()"
      ],
      "execution_count": null,
      "outputs": []
    },
    {
      "cell_type": "code",
      "metadata": {
        "id": "tLYZgo3S9ww4",
        "outputId": "e86799b1-b3b8-4e05-c7fc-e5e55b7832b0",
        "colab": {
          "base_uri": "https://localhost:8080/",
          "height": 34
        }
      },
      "source": [
        "model.fit(pow2_n(X_), Y_)\n",
        "model.coef_\n"
      ],
      "execution_count": null,
      "outputs": [
        {
          "output_type": "execute_result",
          "data": {
            "text/plain": [
              "array([[4.00030028]])"
            ]
          },
          "metadata": {
            "tags": []
          },
          "execution_count": 12
        }
      ]
    },
    {
      "cell_type": "code",
      "metadata": {
        "id": "mMh_1tQC-EQz",
        "outputId": "87a57c23-f650-4da5-d384-3930f4d08af8",
        "colab": {
          "base_uri": "https://localhost:8080/",
          "height": 34
        }
      },
      "source": [
        "model.intercept_"
      ],
      "execution_count": null,
      "outputs": [
        {
          "output_type": "execute_result",
          "data": {
            "text/plain": [
              "array([-13026.16386709])"
            ]
          },
          "metadata": {
            "tags": []
          },
          "execution_count": 13
        }
      ]
    },
    {
      "cell_type": "code",
      "metadata": {
        "id": "Xe4lZx7XAz5P",
        "outputId": "f0808620-9d8d-4b36-83a2-071177bf049f",
        "colab": {
          "base_uri": "https://localhost:8080/",
          "height": 34
        }
      },
      "source": [
        "model.fit(N_Log_2_N(X_), Y_)\n",
        "model.coef_\n"
      ],
      "execution_count": null,
      "outputs": [
        {
          "output_type": "execute_result",
          "data": {
            "text/plain": [
              "array([[2855.748863]])"
            ]
          },
          "metadata": {
            "tags": []
          },
          "execution_count": 14
        }
      ]
    },
    {
      "cell_type": "code",
      "metadata": {
        "id": "4_j89B_6BAEw",
        "outputId": "945a92e9-9cea-4ef1-da6d-c6ec8a89e3f3",
        "colab": {
          "base_uri": "https://localhost:8080/",
          "height": 34
        }
      },
      "source": [
        "model.intercept_"
      ],
      "execution_count": null,
      "outputs": [
        {
          "output_type": "execute_result",
          "data": {
            "text/plain": [
              "array([-31716035.68075959])"
            ]
          },
          "metadata": {
            "tags": []
          },
          "execution_count": 15
        }
      ]
    },
    {
      "cell_type": "code",
      "metadata": {
        "id": "gWuypVTs35Hl",
        "outputId": "d0307cf3-9a32-4a96-edcf-19915cdadbc5",
        "colab": {
          "base_uri": "https://localhost:8080/",
          "height": 276
        }
      },
      "source": [
        "import matplotlib.pyplot as plt\n",
        "plt.plot(X_, Y_, 'ro')\n",
        "\n",
        "plt.show()"
      ],
      "execution_count": null,
      "outputs": [
        {
          "output_type": "display_data",
          "data": {
            "image/png": "[encoded data removed]",
            "text/plain": [
              "<Figure size 432x288 with 1 Axes>"
            ]
          },
          "metadata": {
            "tags": [],
            "needs_background": "light"
          }
        }
      ]
    }
  ]
}